{
 "cells": [
  {
   "cell_type": "markdown",
   "metadata": {},
   "source": [
    "**1. Late night sports analysis**\n",
    "\n",
    "*Problem:*\n",
    "A regional sports network is currently paying editors and analysts overtime after each game to produce same-day video analysis for their web properties. This overtime is costly and while some videos do gain lots of views, others do not.\n",
    "\n",
    "What factors influence the popularity of these videos produced and published immediately after games? Importantly, can some of the analysis wait until the next morning?\n",
    "\n",
    "*Target Variable:*\n",
    "Editorial Video Plays reported in Google Analytics for game related content posted after the game played between the end of the game and the next morning.\n",
    "\n",
    "*Benefit:*\n",
    "If we could predict the value of producing this video in terms of plays that same night, we could recommend for or against paying analysts overtime versus finishing the work in the morning.\n",
    "\n",
    "*Features:*\n",
    "We would want to consider at least:\n",
    "- wins versus losses,\n",
    "- the record of the teams entering the game,\n",
    "- if the game went to an overtime,\n",
    "- the score of the game,\n",
    "- the category of the video,\n",
    "- home v. away games,\n",
    "- the date of the game.\n",
    "\n",
    "*Goals:*\n",
    "We aim to hold video plays steady while reducing overtime costs.\n",
    "\n",
    "*Risks and limitations:*\n",
    "It is not clear that these factors correlate with a difference in videos plays for same-day game related content. We will also need to use multiple data sets in order to add all of these factors. FiveThirtyEight Elo score would have been a great addition, but their dataset contains no data for this year.\n",
    "\n",
    "There may also be a risk that other factors like individual player records being broken, in-game fights or off-court storylines play a large role in the popularity of videos. However, this system will be a tool for a more data-informed decision at the end of games and human decision making can take these factors into account."
   ]
  },
  {
   "cell_type": "code",
   "execution_count": 1,
   "metadata": {},
   "outputs": [],
   "source": [
    "import matplotlib.pyplot as plt\n",
    "import numpy as np\n",
    "import pandas as pd\n",
    "import seaborn as sns\n",
    "from pathlib import Path"
   ]
  },
  {
   "cell_type": "code",
   "execution_count": 2,
   "metadata": {},
   "outputs": [
    {
     "data": {
      "text/html": [
       "<div>\n",
       "<style scoped>\n",
       "    .dataframe tbody tr th:only-of-type {\n",
       "        vertical-align: middle;\n",
       "    }\n",
       "\n",
       "    .dataframe tbody tr th {\n",
       "        vertical-align: top;\n",
       "    }\n",
       "\n",
       "    .dataframe thead th {\n",
       "        text-align: right;\n",
       "    }\n",
       "</style>\n",
       "<table border=\"1\" class=\"dataframe\">\n",
       "  <thead>\n",
       "    <tr style=\"text-align: right;\">\n",
       "      <th></th>\n",
       "      <th>Date</th>\n",
       "      <th>Hour</th>\n",
       "      <th>Client_ID</th>\n",
       "      <th>Game</th>\n",
       "      <th>Video_Category</th>\n",
       "      <th>Post_Date_Hour</th>\n",
       "      <th>Editorial_Video_Plays</th>\n",
       "    </tr>\n",
       "  </thead>\n",
       "  <tbody>\n",
       "    <tr>\n",
       "      <th>0</th>\n",
       "      <td>2018-12-24</td>\n",
       "      <td>0</td>\n",
       "      <td>1.363192e+08</td>\n",
       "      <td>Knicks vs Hawks 2018-12-21</td>\n",
       "      <td>Front Office Interview</td>\n",
       "      <td>2018122119</td>\n",
       "      <td>1</td>\n",
       "    </tr>\n",
       "    <tr>\n",
       "      <th>1</th>\n",
       "      <td>2018-12-24</td>\n",
       "      <td>0</td>\n",
       "      <td>9.504829e+08</td>\n",
       "      <td>Knicks vs Hawks 2018-12-21</td>\n",
       "      <td>Front Office Interview</td>\n",
       "      <td>2018122119</td>\n",
       "      <td>1</td>\n",
       "    </tr>\n",
       "    <tr>\n",
       "      <th>2</th>\n",
       "      <td>2018-12-24</td>\n",
       "      <td>0</td>\n",
       "      <td>1.589813e+09</td>\n",
       "      <td>Knicks vs Suns 2018-12-17</td>\n",
       "      <td>Feature</td>\n",
       "      <td>2018121720</td>\n",
       "      <td>1</td>\n",
       "    </tr>\n",
       "    <tr>\n",
       "      <th>3</th>\n",
       "      <td>2018-12-24</td>\n",
       "      <td>0</td>\n",
       "      <td>1.864715e+09</td>\n",
       "      <td>Knicks vs Hawks 2018-12-21</td>\n",
       "      <td>Coach Interview</td>\n",
       "      <td>2018122017</td>\n",
       "      <td>1</td>\n",
       "    </tr>\n",
       "    <tr>\n",
       "      <th>4</th>\n",
       "      <td>2018-12-24</td>\n",
       "      <td>0</td>\n",
       "      <td>1.923767e+09</td>\n",
       "      <td>Knicks at 76ers 2018-12-19,Knicks vs Suns 2018...</td>\n",
       "      <td>Full Episode</td>\n",
       "      <td>2018121810</td>\n",
       "      <td>1</td>\n",
       "    </tr>\n",
       "  </tbody>\n",
       "</table>\n",
       "</div>"
      ],
      "text/plain": [
       "         Date  Hour     Client_ID  \\\n",
       "0  2018-12-24     0  1.363192e+08   \n",
       "1  2018-12-24     0  9.504829e+08   \n",
       "2  2018-12-24     0  1.589813e+09   \n",
       "3  2018-12-24     0  1.864715e+09   \n",
       "4  2018-12-24     0  1.923767e+09   \n",
       "\n",
       "                                                Game          Video_Category  \\\n",
       "0                         Knicks vs Hawks 2018-12-21  Front Office Interview   \n",
       "1                         Knicks vs Hawks 2018-12-21  Front Office Interview   \n",
       "2                          Knicks vs Suns 2018-12-17                 Feature   \n",
       "3                         Knicks vs Hawks 2018-12-21         Coach Interview   \n",
       "4  Knicks at 76ers 2018-12-19,Knicks vs Suns 2018...            Full Episode   \n",
       "\n",
       "   Post_Date_Hour  Editorial_Video_Plays  \n",
       "0      2018122119                      1  \n",
       "1      2018122119                      1  \n",
       "2      2018121720                      1  \n",
       "3      2018122017                      1  \n",
       "4      2018121810                      1  "
      ]
     },
     "execution_count": 2,
     "metadata": {},
     "output_type": "execute_result"
    }
   ],
   "source": [
    "videos = pd.read_csv('./data/PSuperMetrics.csv')\n",
    "videos.head()"
   ]
  },
  {
   "cell_type": "code",
   "execution_count": 7,
   "metadata": {},
   "outputs": [
    {
     "data": {
      "text/html": [
       "<div>\n",
       "<style scoped>\n",
       "    .dataframe tbody tr th:only-of-type {\n",
       "        vertical-align: middle;\n",
       "    }\n",
       "\n",
       "    .dataframe tbody tr th {\n",
       "        vertical-align: top;\n",
       "    }\n",
       "\n",
       "    .dataframe thead th {\n",
       "        text-align: right;\n",
       "    }\n",
       "</style>\n",
       "<table border=\"1\" class=\"dataframe\">\n",
       "  <thead>\n",
       "    <tr style=\"text-align: right;\">\n",
       "      <th></th>\n",
       "      <th>Date</th>\n",
       "      <th>Hour</th>\n",
       "      <th>Client_ID</th>\n",
       "      <th>Game</th>\n",
       "      <th>Video_Category</th>\n",
       "      <th>Post_Date_Hour</th>\n",
       "      <th>Editorial_Video_Plays</th>\n",
       "    </tr>\n",
       "  </thead>\n",
       "  <tbody>\n",
       "    <tr>\n",
       "      <th>5321</th>\n",
       "      <td>2019-01-22</td>\n",
       "      <td>22</td>\n",
       "      <td>5.235706e+08</td>\n",
       "      <td>Knicks vs Thunder 2019-01-21</td>\n",
       "      <td>Highlight Clip</td>\n",
       "      <td>2019012115</td>\n",
       "      <td>1</td>\n",
       "    </tr>\n",
       "    <tr>\n",
       "      <th>5322</th>\n",
       "      <td>2019-01-22</td>\n",
       "      <td>22</td>\n",
       "      <td>8.384008e+08</td>\n",
       "      <td>Knicks vs Thunder 2019-01-21</td>\n",
       "      <td>Coach Interview</td>\n",
       "      <td>2019012212</td>\n",
       "      <td>1</td>\n",
       "    </tr>\n",
       "    <tr>\n",
       "      <th>5323</th>\n",
       "      <td>2019-01-22</td>\n",
       "      <td>22</td>\n",
       "      <td>8.384008e+08</td>\n",
       "      <td>Knicks vs Thunder 2019-01-21</td>\n",
       "      <td>Highlights Analysis</td>\n",
       "      <td>2019012212</td>\n",
       "      <td>1</td>\n",
       "    </tr>\n",
       "    <tr>\n",
       "      <th>5324</th>\n",
       "      <td>2019-01-22</td>\n",
       "      <td>23</td>\n",
       "      <td>1.376620e+08</td>\n",
       "      <td>Knicks vs Thunder 2019-01-21</td>\n",
       "      <td>Highlights Analysis</td>\n",
       "      <td>2019012116</td>\n",
       "      <td>1</td>\n",
       "    </tr>\n",
       "    <tr>\n",
       "      <th>5325</th>\n",
       "      <td>2019-01-22</td>\n",
       "      <td>23</td>\n",
       "      <td>1.715855e+09</td>\n",
       "      <td>Knicks vs Thunder 2019-01-21</td>\n",
       "      <td>Highlights Analysis</td>\n",
       "      <td>2019012212</td>\n",
       "      <td>1</td>\n",
       "    </tr>\n",
       "  </tbody>\n",
       "</table>\n",
       "</div>"
      ],
      "text/plain": [
       "            Date  Hour     Client_ID                          Game  \\\n",
       "5321  2019-01-22    22  5.235706e+08  Knicks vs Thunder 2019-01-21   \n",
       "5322  2019-01-22    22  8.384008e+08  Knicks vs Thunder 2019-01-21   \n",
       "5323  2019-01-22    22  8.384008e+08  Knicks vs Thunder 2019-01-21   \n",
       "5324  2019-01-22    23  1.376620e+08  Knicks vs Thunder 2019-01-21   \n",
       "5325  2019-01-22    23  1.715855e+09  Knicks vs Thunder 2019-01-21   \n",
       "\n",
       "           Video_Category  Post_Date_Hour  Editorial_Video_Plays  \n",
       "5321       Highlight Clip      2019012115                      1  \n",
       "5322      Coach Interview      2019012212                      1  \n",
       "5323  Highlights Analysis      2019012212                      1  \n",
       "5324  Highlights Analysis      2019012116                      1  \n",
       "5325  Highlights Analysis      2019012212                      1  "
      ]
     },
     "execution_count": 7,
     "metadata": {},
     "output_type": "execute_result"
    }
   ],
   "source": [
    "videos.tail()"
   ]
  },
  {
   "cell_type": "code",
   "execution_count": 4,
   "metadata": {},
   "outputs": [
    {
     "data": {
      "text/plain": [
       "Date                      object\n",
       "Hour                       int64\n",
       "Client_ID                float64\n",
       "Game                      object\n",
       "Video_Category            object\n",
       "Post_Date_Hour             int64\n",
       "Editorial_Video_Plays      int64\n",
       "dtype: object"
      ]
     },
     "execution_count": 4,
     "metadata": {},
     "output_type": "execute_result"
    }
   ],
   "source": [
    "videos.dtypes"
   ]
  },
  {
   "cell_type": "code",
   "execution_count": 5,
   "metadata": {},
   "outputs": [
    {
     "data": {
      "text/plain": [
       "(5326, 7)"
      ]
     },
     "execution_count": 5,
     "metadata": {},
     "output_type": "execute_result"
    }
   ],
   "source": [
    "videos.shape"
   ]
  },
  {
   "cell_type": "code",
   "execution_count": 6,
   "metadata": {},
   "outputs": [
    {
     "data": {
      "text/plain": [
       "Date                     0\n",
       "Hour                     0\n",
       "Client_ID                0\n",
       "Game                     0\n",
       "Video_Category           0\n",
       "Post_Date_Hour           0\n",
       "Editorial_Video_Plays    0\n",
       "dtype: int64"
      ]
     },
     "execution_count": 6,
     "metadata": {},
     "output_type": "execute_result"
    }
   ],
   "source": [
    "videos.isnull().sum()"
   ]
  },
  {
   "cell_type": "code",
   "execution_count": null,
   "metadata": {},
   "outputs": [],
   "source": []
  }
 ],
 "metadata": {
  "kernelspec": {
   "display_name": "Python 3",
   "language": "python",
   "name": "python3"
  },
  "language_info": {
   "codemirror_mode": {
    "name": "ipython",
    "version": 3
   },
   "file_extension": ".py",
   "mimetype": "text/x-python",
   "name": "python",
   "nbconvert_exporter": "python",
   "pygments_lexer": "ipython3",
   "version": "3.7.1"
  }
 },
 "nbformat": 4,
 "nbformat_minor": 2
}
